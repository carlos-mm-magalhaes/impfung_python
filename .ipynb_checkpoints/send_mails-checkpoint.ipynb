{
 "cells": [
  {
   "cell_type": "code",
   "execution_count": 37,
   "metadata": {},
   "outputs": [],
   "source": [
    "import pandas as pd"
   ]
  },
  {
   "cell_type": "code",
   "execution_count": 38,
   "metadata": {},
   "outputs": [],
   "source": [
    "df = pd.read_csv('doctors.csv', usecols=['doctor', 'street', 'PLZ', 'email', 'url'])"
   ]
  },
  {
   "cell_type": "code",
   "execution_count": 39,
   "metadata": {},
   "outputs": [
    {
     "data": {
      "text/html": [
       "<div>\n",
       "<style scoped>\n",
       "    .dataframe tbody tr th:only-of-type {\n",
       "        vertical-align: middle;\n",
       "    }\n",
       "\n",
       "    .dataframe tbody tr th {\n",
       "        vertical-align: top;\n",
       "    }\n",
       "\n",
       "    .dataframe thead th {\n",
       "        text-align: right;\n",
       "    }\n",
       "</style>\n",
       "<table border=\"1\" class=\"dataframe\">\n",
       "  <thead>\n",
       "    <tr style=\"text-align: right;\">\n",
       "      <th></th>\n",
       "      <th>doctor</th>\n",
       "      <th>street</th>\n",
       "      <th>PLZ</th>\n",
       "      <th>email</th>\n",
       "      <th>url</th>\n",
       "    </tr>\n",
       "  </thead>\n",
       "  <tbody>\n",
       "    <tr>\n",
       "      <th>0</th>\n",
       "      <td>Achatz Michael Dr.med. Allgemeinarzt Naturheil...</td>\n",
       "      <td>Lassallestr. 95</td>\n",
       "      <td>80995 München</td>\n",
       "      <td>NaN</td>\n",
       "      <td>https://hausaerzte.site/achatz-michael-drmed-a...</td>\n",
       "    </tr>\n",
       "    <tr>\n",
       "      <th>1</th>\n",
       "      <td>Adam Karin Dr.med. Diabetologisch qualifiziert...</td>\n",
       "      <td>Wettersteinplatz 3</td>\n",
       "      <td>81547 München</td>\n",
       "      <td>NaN</td>\n",
       "      <td>https://hausaerzte.site/adam-karin-drmed-diabe...</td>\n",
       "    </tr>\n",
       "    <tr>\n",
       "      <th>2</th>\n",
       "      <td>Albani M. Dr. Facharzt für Allgemeinmedizin u....</td>\n",
       "      <td>Hörwarthstr. 33</td>\n",
       "      <td>80804 München</td>\n",
       "      <td>NaN</td>\n",
       "      <td>https://hausaerzte.site/albani-m-dr-facharzt-f...</td>\n",
       "    </tr>\n",
       "    <tr>\n",
       "      <th>3</th>\n",
       "      <td>AllDent Zahnzentrum München GmbH</td>\n",
       "      <td>Bayerstr. 21</td>\n",
       "      <td>80335 München</td>\n",
       "      <td>info@alldent-zahnzentrum.de</td>\n",
       "      <td>https://hausaerzte.site/alldent-zahnzentrum-mu...</td>\n",
       "    </tr>\n",
       "    <tr>\n",
       "      <th>4</th>\n",
       "      <td>AllDent Zahnzentrum München GmbH</td>\n",
       "      <td>Einsteinstr. 130</td>\n",
       "      <td>81675 München</td>\n",
       "      <td>muenchen2@alldent.de</td>\n",
       "      <td>https://hausaerzte.site/alldent-zahnzentrum-mu...</td>\n",
       "    </tr>\n",
       "  </tbody>\n",
       "</table>\n",
       "</div>"
      ],
      "text/plain": [
       "                                              doctor              street  \\\n",
       "0  Achatz Michael Dr.med. Allgemeinarzt Naturheil...     Lassallestr. 95   \n",
       "1  Adam Karin Dr.med. Diabetologisch qualifiziert...  Wettersteinplatz 3   \n",
       "2  Albani M. Dr. Facharzt für Allgemeinmedizin u....     Hörwarthstr. 33   \n",
       "3                   AllDent Zahnzentrum München GmbH        Bayerstr. 21   \n",
       "4                   AllDent Zahnzentrum München GmbH    Einsteinstr. 130   \n",
       "\n",
       "             PLZ                        email  \\\n",
       "0  80995 München                          NaN   \n",
       "1  81547 München                          NaN   \n",
       "2  80804 München                          NaN   \n",
       "3  80335 München  info@alldent-zahnzentrum.de   \n",
       "4  81675 München         muenchen2@alldent.de   \n",
       "\n",
       "                                                 url  \n",
       "0  https://hausaerzte.site/achatz-michael-drmed-a...  \n",
       "1  https://hausaerzte.site/adam-karin-drmed-diabe...  \n",
       "2  https://hausaerzte.site/albani-m-dr-facharzt-f...  \n",
       "3  https://hausaerzte.site/alldent-zahnzentrum-mu...  \n",
       "4  https://hausaerzte.site/alldent-zahnzentrum-mu...  "
      ]
     },
     "execution_count": 39,
     "metadata": {},
     "output_type": "execute_result"
    }
   ],
   "source": [
    "df.head()"
   ]
  },
  {
   "cell_type": "code",
   "execution_count": 86,
   "metadata": {},
   "outputs": [],
   "source": [
    "df_obs = pd.read_csv('obs.csv', delimiter=';')"
   ]
  },
  {
   "cell_type": "code",
   "execution_count": 87,
   "metadata": {},
   "outputs": [
    {
     "data": {
      "text/html": [
       "<div>\n",
       "<style scoped>\n",
       "    .dataframe tbody tr th:only-of-type {\n",
       "        vertical-align: middle;\n",
       "    }\n",
       "\n",
       "    .dataframe tbody tr th {\n",
       "        vertical-align: top;\n",
       "    }\n",
       "\n",
       "    .dataframe thead th {\n",
       "        text-align: right;\n",
       "    }\n",
       "</style>\n",
       "<table border=\"1\" class=\"dataframe\">\n",
       "  <thead>\n",
       "    <tr style=\"text-align: right;\">\n",
       "      <th></th>\n",
       "      <th>email</th>\n",
       "      <th>obs</th>\n",
       "    </tr>\n",
       "  </thead>\n",
       "  <tbody>\n",
       "    <tr>\n",
       "      <th>0</th>\n",
       "      <td>praxis@banhardt.de</td>\n",
       "      <td>whitelist</td>\n",
       "    </tr>\n",
       "    <tr>\n",
       "      <th>1</th>\n",
       "      <td>info@atos-muenchen.de</td>\n",
       "      <td>whitelist</td>\n",
       "    </tr>\n",
       "    <tr>\n",
       "      <th>2</th>\n",
       "      <td>info@bereitschaftspraxen.de</td>\n",
       "      <td>whitelist</td>\n",
       "    </tr>\n",
       "    <tr>\n",
       "      <th>3</th>\n",
       "      <td>info@praxis-dr-bruecker.de</td>\n",
       "      <td>whitelist</td>\n",
       "    </tr>\n",
       "    <tr>\n",
       "      <th>4</th>\n",
       "      <td>Praxis_Dr.Burkhardt@web.de</td>\n",
       "      <td>whitelist</td>\n",
       "    </tr>\n",
       "  </tbody>\n",
       "</table>\n",
       "</div>"
      ],
      "text/plain": [
       "                         email        obs\n",
       "0           praxis@banhardt.de  whitelist\n",
       "1        info@atos-muenchen.de  whitelist\n",
       "2  info@bereitschaftspraxen.de  whitelist\n",
       "3   info@praxis-dr-bruecker.de  whitelist\n",
       "4   Praxis_Dr.Burkhardt@web.de  whitelist"
      ]
     },
     "execution_count": 87,
     "metadata": {},
     "output_type": "execute_result"
    }
   ],
   "source": [
    "df_obs.head()"
   ]
  },
  {
   "cell_type": "code",
   "execution_count": 88,
   "metadata": {},
   "outputs": [
    {
     "name": "stdout",
     "output_type": "stream",
     "text": [
      "<class 'pandas.core.frame.DataFrame'>\n",
      "RangeIndex: 30 entries, 0 to 29\n",
      "Data columns (total 2 columns):\n",
      " #   Column  Non-Null Count  Dtype \n",
      "---  ------  --------------  ----- \n",
      " 0   email   30 non-null     object\n",
      " 1   obs     30 non-null     object\n",
      "dtypes: object(2)\n",
      "memory usage: 608.0+ bytes\n"
     ]
    }
   ],
   "source": [
    "df_obs.info()"
   ]
  },
  {
   "cell_type": "code",
   "execution_count": 89,
   "metadata": {},
   "outputs": [],
   "source": [
    "df.drop_duplicates(subset=['email'], inplace=True)"
   ]
  },
  {
   "cell_type": "code",
   "execution_count": 90,
   "metadata": {},
   "outputs": [],
   "source": [
    "df.dropna(subset=['email'], inplace=True)"
   ]
  },
  {
   "cell_type": "code",
   "execution_count": 91,
   "metadata": {},
   "outputs": [
    {
     "name": "stdout",
     "output_type": "stream",
     "text": [
      "<class 'pandas.core.frame.DataFrame'>\n",
      "Int64Index: 287 entries, 3 to 686\n",
      "Data columns (total 5 columns):\n",
      " #   Column  Non-Null Count  Dtype \n",
      "---  ------  --------------  ----- \n",
      " 0   doctor  287 non-null    object\n",
      " 1   street  287 non-null    object\n",
      " 2   PLZ     287 non-null    object\n",
      " 3   email   287 non-null    object\n",
      " 4   url     287 non-null    object\n",
      "dtypes: object(5)\n",
      "memory usage: 13.5+ KB\n"
     ]
    }
   ],
   "source": [
    "df.info()"
   ]
  },
  {
   "cell_type": "code",
   "execution_count": 92,
   "metadata": {},
   "outputs": [],
   "source": [
    "all_emails = df['email'].append(df_obs['email'])"
   ]
  },
  {
   "cell_type": "code",
   "execution_count": 93,
   "metadata": {},
   "outputs": [
    {
     "data": {
      "text/plain": [
       "3               info@alldent-zahnzentrum.de\n",
       "4                      muenchen2@alldent.de\n",
       "5     info@allgemeinarztpraxis-schwabing.de\n",
       "6               pflegedienst@astrapflege.de\n",
       "7           anfrage@arabella-internisten.de\n",
       "                      ...                  \n",
       "25                           MVZ-MUC@gmx.de\n",
       "26                    fliegerarzt@online.de\n",
       "27                            fum@online.de\n",
       "28                        rfischl@online.de\n",
       "29              info@alldent-zahnzentrum.de\n",
       "Name: email, Length: 317, dtype: object"
      ]
     },
     "execution_count": 93,
     "metadata": {},
     "output_type": "execute_result"
    }
   ],
   "source": [
    "all_emails"
   ]
  },
  {
   "cell_type": "code",
   "execution_count": 96,
   "metadata": {},
   "outputs": [],
   "source": [
    "all_emails.drop_duplicates(keep=False, inplace=True)"
   ]
  },
  {
   "cell_type": "code",
   "execution_count": 7,
   "metadata": {},
   "outputs": [],
   "source": [
    "import smtplib"
   ]
  },
  {
   "cell_type": "code",
   "execution_count": 8,
   "metadata": {},
   "outputs": [],
   "source": [
    "smtp_object = smtplib.SMTP('smtp.gmail.com',587)"
   ]
  },
  {
   "cell_type": "code",
   "execution_count": 9,
   "metadata": {},
   "outputs": [
    {
     "data": {
      "text/plain": [
       "(250,\n",
       " b'smtp.gmail.com at your service, [93.104.92.139]\\nSIZE 35882577\\n8BITMIME\\nSTARTTLS\\nENHANCEDSTATUSCODES\\nPIPELINING\\nCHUNKING\\nSMTPUTF8')"
      ]
     },
     "execution_count": 9,
     "metadata": {},
     "output_type": "execute_result"
    }
   ],
   "source": [
    "smtp_object.ehlo()"
   ]
  },
  {
   "cell_type": "code",
   "execution_count": 10,
   "metadata": {},
   "outputs": [
    {
     "data": {
      "text/plain": [
       "(220, b'2.0.0 Ready to start TLS')"
      ]
     },
     "execution_count": 10,
     "metadata": {},
     "output_type": "execute_result"
    }
   ],
   "source": [
    "smtp_object.starttls()"
   ]
  },
  {
   "cell_type": "code",
   "execution_count": 11,
   "metadata": {},
   "outputs": [
    {
     "data": {
      "text/plain": [
       "(235, b'2.7.0 Accepted')"
      ]
     },
     "execution_count": 11,
     "metadata": {},
     "output_type": "execute_result"
    }
   ],
   "source": [
    "email = 'carlos.marcone.magalhaes@gmail.com'\n",
    "password = 'gnuguwyqnabqunqw'\n",
    "smtp_object.login(email,password)"
   ]
  },
  {
   "cell_type": "code",
   "execution_count": 12,
   "metadata": {},
   "outputs": [],
   "source": [
    "email_list = ['carlos.marcone.magalhaes@usp.br', 'carlos.marcone.magalhaes@tum.de']\n",
    "\n",
    "# to_address = email_list[0]\n",
    "# subject = 'Impfung Covid-19'\n",
    "# message = input(\"Type out the message you want to send: \")\n",
    "# msg = \"Subject: \" + subject + '\\n' + message\n",
    "# smtp_object.sendmail(email,to_address,msg)"
   ]
  },
  {
   "cell_type": "code",
   "execution_count": 13,
   "metadata": {},
   "outputs": [
    {
     "name": "stdout",
     "output_type": "stream",
     "text": [
      "info@alldent-zahnzentrum.de\n",
      "muenchen2@alldent.de\n",
      "info@allgemeinarztpraxis-schwabing.de\n",
      "pflegedienst@astrapflege.de\n",
      "anfrage@arabella-internisten.de\n",
      "dieterle@aerztehaus-harlaching.de\n",
      "info@atos-muenchen.de\n",
      "praxis@banhardt.de\n",
      "praxis@akupunktur-und-medizin.de\n",
      "mein.hausarzt@gmx.de\n",
      "info@praxisbogenhausen.de\n",
      "dr.baunz-gerz-praxis@t-online.de\n",
      "info@privatpraxis-dr-baur.de\n",
      "praxis-dr-beck@web.de\n",
      "yukiyobecker@yahoo.co.jp\n",
      "ab@praxis-beier.de\n",
      "info@akupunkturpraxis-beier.com\n",
      "info@bereitschaftspraxen.de\n",
      "oh@dr-bertermann.de\n",
      "info@hausarztpraxis-isartor.de\n",
      "monika.bittner@freenet.de\n",
      "rezept@fraunhoferpraxis.de\n",
      "dr.hans.huebner@t-online.de\n",
      "achim.brenske@gmail.com\n",
      "info@brommer-weltz.de\n",
      "info@praxis-dr-buchholz.de\n",
      "info@praxisbuchholz.de\n",
      "info@praxis-dr-buecker.de\n",
      "info@praxis-dr-bruecker.de\n",
      "Praxis_Dr.Burkhardt@web.de\n",
      "p.buerkle-grasse@mnet-online.de\n",
      "praxis@bustami.de\n",
      "kontakt@praxis-castorphsika.de\n",
      "info@doc-claus.de\n",
      "pmcohn1@aol.com\n",
      "praxis@hausaerzte-muenchen-laim.de\n",
      "info@praxis-daadoush.de\n",
      "info@hausarzt-giesing.de\n",
      "info@dr-liane-decker-muenchen.de\n",
      "drdietrich@mvz-neuhausen.com\n",
      "info@dohrenbusch.de\n",
      "dopfer-sabine@t-online.de\n",
      "info@gastro-muc-solln.de\n",
      "info@dr-eckstein.com\n",
      "info@pasingdoc.de\n",
      "info@die-doktorin.de\n",
      "info@praxis-engertoefelein.de\n",
      "info@praxis-engert.de\n",
      "post@dr-erdkoenig.de\n",
      "ernst-magarete@t-online.de\n",
      "peter.Eyrich@t-online.de\n",
      "info@praxis-trudering.com\n",
      "feldmann.irena@yahoo.de\n",
      "info@dr-firuzeh-winter.de\n",
      "jf@fischer-tcm.de\n",
      "nicoderm@t-online.de\n",
      "info@fliegerdoc-muenchen.de\n",
      "doctor.werner.folkerts@onlinemed.de\n",
      "Prof.Franke@Neuro-Munich.de\n",
      "karl-freybe@gmx.de\n",
      "praxis.peter.friedrich@arcor.de\n",
      "info@dr-nicola-fritz.de\n",
      "mail@diabetologie-haidhausen.de\n",
      "praxis-dr-fuchs@t-online.de\n",
      "praxis@praxis-dr-galia.de\n",
      "gruppenpraxishbn@web.de\n",
      "ahs@fa-munich.de\n",
      "allgemeinmedizin-josephsburg@t-online.de\n",
      "info@privatpraxisbogenhausen.de\n",
      "info@umc-international.com\n",
      "info@mbsr-praxis-muenchen.de\n",
      "gagini@yahoo.com\n",
      "praxis@praxis-gobmeier-kilinc.de\n",
      "dr.gold@die-familienpraxis.de\n",
      "info@goldbrunner-tissen.com\n",
      "info@arztvertretung.org\n",
      "advogator@web.de\n",
      "praxis@dr-gotzamanis.de\n",
      "info@drgrafe.de\n",
      "dr.grasser@t-online.de\n",
      "info@praxis-doktor-gross.de\n",
      "kontakt@hausarztpraxis-am-baldeplatz.de\n",
      "praxis@drgruhn.de\n",
      "info@drgpunkt.de\n",
      "Karl-Heinz@Dr-Gunzelmann.de\n",
      "dr.med.gutter@email.de\n",
      "info@drhaberl.de\n",
      "termin@praxis-hauptfeuerwache.de\n",
      "praxis@praxishanemann.de\n",
      "info@akupunkturpraxis-beier.de\n",
      "harke@praxis-dr-harke.de\n",
      "praxis@haseke.info\n",
      "dr.margit.hasinger@t-online.de\n",
      "info@markus-hentschel.de\n",
      "info@dr-haupt-pichler.de\n",
      "praxishuetingtatsch@online.de\n",
      "hadern-docs@gmx.de\n",
      "Praxis.dr.lothar.blume@t-online.de\n",
      "drkurthenze@t-online.de\n",
      "praxis@herold-frank.de\n",
      "mail@praxis-dr-hess.de\n",
      "praxis.hinke@web.de\n",
      "dr-hirler@gmx.de\n",
      "hofmeistera@yahoo.de\n",
      "kontakt@zagr.de\n",
      "info@homoeopathisches-aerztehaus.de\n",
      "gemeinschaftspraxis-trudering@bayhn.de\n",
      "dr.hoydem@gmx.de\n",
      "hans-g-huber@arcor.de\n",
      "gvh@psyche-und-soma.de\n",
      "dr.hundemer@t-online.de\n",
      "info@arztpraxis-hundhausen.de\n",
      "info@praxiszentrum-waldfriedhofstrasse.de\n",
      "info@dr-inal.de\n",
      "praxis@internistische-hausarztpraxis-ramersdorf.de\n",
      "dr.werner.brueckner@gmx.net\n",
      "info@praxis-dr-jack.de\n",
      "info@mvz-karlsplatz.de\n",
      "info@dr-margarete-jaeger.de\n",
      "mail@gjahns.de\n",
      "praxisdrjansen@yahoo.de\n",
      "maike.janson@t-online.de\n",
      "info@dr-jobst-kiel.de\n",
      "info@dr-juchert.de\n",
      "info@praxis-juchheim-bannasch.de\n",
      "praxis@doc-kahmann.de\n",
      "wkaphahn@t-online.de\n",
      "info@praxis-karger.de\n",
      "karwat@medics.de\n",
      "praxis-dr.kasi@t-online.de\n",
      "praxis@dr-kauf.de\n",
      "info@dr-michael-kemper.de\n",
      "info@praxis-khatami.de\n",
      "praxis@klaubert.de\n",
      "info@praxis-dr-klaus.de\n",
      "noemi.klier@gmx.de\n",
      "h.uwe.klotz@web.de\n",
      "info@praxisdrklotz.de\n",
      "praxis@santo-raphael.de\n",
      "Dr.Alexander-Kosarev@t-online.de\n",
      "info@dr-koethe.de\n",
      "kontakt@praxis-kotzbauer.de\n",
      "info@hausaerzte-pasing.de\n",
      "dr.krestel@t-online.de\n",
      "P.Kretschmar@lrz.uni-muenchen.de\n",
      "info@praxis-dr-krieger-muenchen.de\n",
      "praxis-kross-schaeffler@gmx.de\n",
      "praxis@praxis-dr-kuss.de\n",
      "info@labdas.de\n",
      "dreslang-guertler@t-online.de\n",
      "willkommen@leibarztpraxis.de\n",
      "info@hausaerztinnen-muenchen.de\n",
      "info@barbara-lenzen.de\n",
      "info@psychiatriepraxis-muenchen.de\n",
      "praxislesinger@web.de\n",
      "info@sat-point.de\n",
      "info@praxis-borstei.de\n",
      "kontakt@praxis-dr-kuebler.com\n",
      "drludwig@praxisgemeinschaft-verdistrasse.de\n",
      "info@docs-lgv.de\n",
      "dr.norbert.maasz@bakin-maasz.de\n",
      "drmacho@dokusafe.de\n",
      "jan.mackert@gmx.de\n",
      "info@praxis-thinesse-mallwitz.de\n",
      "info@privatpraxis-muenchen.de\n",
      "allgemeinmedizin-mansour@t-online.de\n",
      "praxis@markreiter.de\n",
      "marbri3@web.de\n",
      "ingo@marschner-muc.de\n",
      "praxis@dr-patricia-maerz.de\n",
      "dipl.med.steffimayer@googlemail.com\n",
      "praxis.dorfner.mehringer@hausaerzte-trudering.de\n",
      "wmeierin@t-online.de\n",
      "team@hausarztpraxis-drs-meissner.de\n",
      "praxis@dr-menzel.com\n",
      "team@zimi-web.com\n",
      "dr.johann.meyer@t-online.de\n",
      "praxis@dr-meyer-bender.de\n",
      "info@tierarztpraxis-pachnicke.de\n",
      "michel@med-in-motion.de\n",
      "praxis@dr-michels.de\n",
      "mail@praxis-dr-miersch.de\n",
      "michaela.minx@t-online.de\n",
      "Praxis@Dr-Mocikat.de\n",
      "praxis@akupunktur-dr-moeser.de\n",
      "tierarztpraxis-moeller@arcor.de\n",
      "info@onkologie-elisenhof.de\n",
      "info@dr-muehlbacher.de\n",
      "info@praxis-musselmann.de\n",
      "info@mvz-sendlinger-tor.de\n",
      "praxis@praxis-willerding.de\n",
      "praxis@dr-neglein.de\n",
      "praxis.nikl@t-online.de\n",
      "nosratian@web.de\n",
      "info@praxis-ntampakas.de\n",
      "doenaldi@web.de\n",
      "patzek@gesundheitszentrum-giesing.de\n",
      "cesar@dr-perez.de\n",
      "info@praxis-dr-peter.de\n",
      "maria.beykirch@t-online.de\n",
      "info@dr-knutpfeiffer.de\n",
      "mail@praxis-dr-pischa.de\n",
      "therapie@freya-pitthan.de\n",
      "m.plica@akupunktur-expertin.de\n",
      "blaek@blaek.de\n",
      "dr.posern@t-online.de\n",
      "bauhofer@drbauhofer.de\n",
      "info@dr-eiber.de\n",
      "tzelepides@arcor.de\n",
      "mail@praxis-westkreuz.de\n",
      "info@arzt-muc.de\n",
      "kontakt@dr-preussger.de\n",
      "dr.c.prollius@googlemail.com\n",
      "praxispuppe@gmx.de\n",
      "webmaster@bereitschaftspraxen.de\n",
      "mail@praxis-au.de\n",
      "o.ramrath@gmx.de\n",
      "dr-reuter@gmx.de\n",
      "dr.riemer-praxis@web.de\n",
      "info@praxisriker.de\n",
      "termine-gold@die-familienpraxis.de\n",
      "harald.roelen@googlemail.com\n",
      "info@arztpraxis-romanos.de\n",
      "info@dr-sacker.de\n",
      "info@dr-kiskalt.com\n",
      "info@dr-sami.de\n",
      "mail@gemeinschaftspraxis-arabellapark.de\n",
      "sauter@gz-giesing.de\n",
      "info@drscheiner-muenchen.de\n",
      "praxis@onkologie-pasing.de\n",
      "drschindelhauer@praxisambonnerplatz.de\n",
      "k.m.schmid@t-online.de\n",
      "hausarztpraxis.partnachplatz@t-online.de\n",
      "doctor@praxis-dr-schneider.de\n",
      "dr.beatrix.schneider@online.de\n",
      "praxis@cardiodiabetes.info\n",
      "kontakt@dr-schnur.de\n",
      "info@praxis-schrader.de\n",
      "info@dr-schratzlseer.de\n",
      "info@schwabinger-hausarztpraxis.de\n",
      "praxis@dr-schwemmlein.de\n",
      "info@praxis-dr-seitz.de\n",
      "praxismariasiakavara@outlook.de\n",
      "info@praxis-cosimastrasse.de\n",
      "praxis@dr-simonis.de\n",
      "dr.georg.snajberk@onlinemed.de\n",
      "sommerpraxis@t-online.de\n",
      "Dr.Song-Ganslmeier@t-online.de\n",
      "info@hautarzt-laser-solln.de\n",
      "info@psychotherapie-pettenkofer4.de\n",
      "mail@drspaeth.de\n",
      "mvspecht@web.de\n",
      "info@privatpraxis-bogenhausen.de\n",
      "praxis-drstoeckle@t-online.de\n",
      "info@dr-stoeckicht-nguyen.de\n",
      "praxis@dr-strecker.de\n",
      "info@dr-strenkert.de\n",
      "gerhard.stritzl@mnet-online.de\n",
      "info@internistin-trudering.de\n",
      "mail@allgemeinmedizin-schwabing.de\n",
      "info@dr-dana-szurmant.de\n",
      "info@praxis-tasios.de\n",
      "praxis@tauer-reich.de\n",
      "info@fraunhoferpraxis.de\n",
      "kontakt@arztpraxis-teutsch.de\n",
      "info@thomas-thust.de\n",
      "terminvereinbarung@tittus-wenk-ibarra.de\n",
      "info@praxis-treusch.de\n",
      "service@trieb-otto.de\n",
      "Andrea.Tuppert@gmx.de\n",
      "info@sportmed089.de\n",
      "info@praxis-urcan.de\n",
      "team-sonnenstrasse@vivaq-mvz.de\n",
      "praxis@florianvogel.de\n",
      "praxis.dr.vonhof@t-online.de\n",
      "Dr.v.Wachter@t-online.de\n",
      "praxis@dr-r-wagner.de\n",
      "info@dr-stephan-wagner.de\n",
      "praxis@dr-wallraff.de\n",
      "kontakt@walner-schulen.de\n",
      "praxis.wegener@gmx.de\n",
      "info@drweissberg.de\n",
      "kontakt@westenhuber.net\n",
      "docwidenmeyer@web.de\n",
      "dr@praxis-willkomm.com\n",
      "info@onkologie-wohlrab.de\n",
      "dr.zilz-meyer@t-online.de\n"
     ]
    }
   ],
   "source": [
    "for email in df['email']:\n",
    "    print(email)"
   ]
  },
  {
   "cell_type": "code",
   "execution_count": 31,
   "metadata": {},
   "outputs": [],
   "source": [
    "from string import Template\n",
    "\n",
    "def read_template(filename):\n",
    "    with open(filename, 'r', encoding='utf-8') as template_file:\n",
    "        template_file_content = template_file.read()\n",
    "    return Template(template_file_content)"
   ]
  },
  {
   "cell_type": "code",
   "execution_count": 32,
   "metadata": {},
   "outputs": [],
   "source": [
    "message_template = read_template('message.txt')"
   ]
  },
  {
   "cell_type": "code",
   "execution_count": 33,
   "metadata": {},
   "outputs": [
    {
     "data": {
      "text/plain": [
       "<string.Template at 0x2da3cb24250>"
      ]
     },
     "execution_count": 33,
     "metadata": {},
     "output_type": "execute_result"
    }
   ],
   "source": [
    "message_template"
   ]
  },
  {
   "cell_type": "code",
   "execution_count": 36,
   "metadata": {},
   "outputs": [],
   "source": [
    "from email.mime.multipart import MIMEMultipart\n",
    "from email.mime.text import MIMEText\n",
    "\n",
    "MY_ADDRESS = 'carlos.marcone.magalhaes@gmail.com'\n",
    "\n",
    "# For each contact, send the email:\n",
    "# for email in all_emails:\n",
    "for email in email_list:\n",
    "    msg = MIMEMultipart()       # create a message\n",
    "\n",
    "    # add in the actual person name to the message template\n",
    "#     message = message_template.substitute(PERSON_NAME=name.title())\n",
    "\n",
    "    # setup the parameters of the message\n",
    "    msg['From']=MY_ADDRESS\n",
    "    msg['To']=email\n",
    "    msg['Subject']=\"Anfrage auf Covid-19 Impfung\"\n",
    "\n",
    "    # add in the message body\n",
    "    msg.attach(MIMEText(message_template.template, 'plain'))\n",
    "\n",
    "    # send the message via the server set up earlier.\n",
    "    smtp_object.send_message(msg)\n",
    "#     smtp_object.sendmail(email,to_address,msg)\n",
    "    \n",
    "    del msg"
   ]
  }
 ],
 "metadata": {
  "kernelspec": {
   "display_name": "Python 3",
   "language": "python",
   "name": "python3"
  },
  "language_info": {
   "codemirror_mode": {
    "name": "ipython",
    "version": 3
   },
   "file_extension": ".py",
   "mimetype": "text/x-python",
   "name": "python",
   "nbconvert_exporter": "python",
   "pygments_lexer": "ipython3",
   "version": "3.8.5"
  }
 },
 "nbformat": 4,
 "nbformat_minor": 4
}
